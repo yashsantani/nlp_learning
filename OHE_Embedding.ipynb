{
  "nbformat": 4,
  "nbformat_minor": 0,
  "metadata": {
    "colab": {
      "provenance": [],
      "gpuType": "T4",
      "authorship_tag": "ABX9TyPk94ObgZ7+jnnrpoc4zfxR"
    },
    "kernelspec": {
      "name": "python3",
      "display_name": "Python 3"
    },
    "language_info": {
      "name": "python"
    },
    "accelerator": "GPU"
  },
  "cells": [
    {
      "cell_type": "code",
      "execution_count": 1,
      "metadata": {
        "id": "Fu9PuYeu0XGD"
      },
      "outputs": [],
      "source": [
        "### sentences\n",
        "sent=[  'the glass of milk',\n",
        "     'the glass of juice',\n",
        "     'the cup of tea',\n",
        "    'I am a good boy',\n",
        "     'I am a good developer',\n",
        "     'understand the meaning of words',\n",
        "     'your videos are good']"
      ]
    },
    {
      "cell_type": "code",
      "source": [
        "from tensorflow.keras.preprocessing.text import one_hot"
      ],
      "metadata": {
        "id": "WLsfAhwISSDQ"
      },
      "execution_count": 2,
      "outputs": []
    },
    {
      "cell_type": "code",
      "source": [
        "#convert to one hot rep\n",
        "vocabulary_size = 500\n",
        "one_hot_rep = [one_hot(doc,vocabulary_size) for doc in sent]\n",
        "one_hot_rep"
      ],
      "metadata": {
        "colab": {
          "base_uri": "https://localhost:8080/"
        },
        "id": "4WfDVrHTSqjx",
        "outputId": "97269e21-cdde-450b-cf47-0cf1e03f94c8"
      },
      "execution_count": 3,
      "outputs": [
        {
          "output_type": "execute_result",
          "data": {
            "text/plain": [
              "[[333, 415, 486, 37],\n",
              " [333, 415, 486, 453],\n",
              " [333, 444, 486, 270],\n",
              " [478, 344, 311, 435, 18],\n",
              " [478, 344, 311, 435, 307],\n",
              " [464, 333, 495, 486, 197],\n",
              " [251, 396, 308, 435]]"
            ]
          },
          "metadata": {},
          "execution_count": 3
        }
      ]
    },
    {
      "cell_type": "code",
      "source": [
        "from tensorflow.keras.layers import Embedding\n",
        "from tensorflow.keras.preprocessing.sequence import pad_sequences\n",
        "from tensorflow.keras.models import Sequential"
      ],
      "metadata": {
        "id": "2k847FHkTJ9B"
      },
      "execution_count": 4,
      "outputs": []
    },
    {
      "cell_type": "code",
      "source": [
        "#padding the sentences\n",
        "sent_max_length = 10\n",
        "padded = pad_sequences(one_hot_rep, sent_max_length, padding='pre',)"
      ],
      "metadata": {
        "id": "16R5OnNVTevW"
      },
      "execution_count": 9,
      "outputs": []
    },
    {
      "cell_type": "code",
      "source": [
        "padded"
      ],
      "metadata": {
        "colab": {
          "base_uri": "https://localhost:8080/"
        },
        "id": "aAmTS0F9X0F2",
        "outputId": "fa38e764-88e8-4bb8-dcfb-78cfda1b7414"
      },
      "execution_count": 10,
      "outputs": [
        {
          "output_type": "execute_result",
          "data": {
            "text/plain": [
              "array([[  0,   0,   0,   0,   0,   0, 333, 415, 486,  37],\n",
              "       [  0,   0,   0,   0,   0,   0, 333, 415, 486, 453],\n",
              "       [  0,   0,   0,   0,   0,   0, 333, 444, 486, 270],\n",
              "       [  0,   0,   0,   0,   0, 478, 344, 311, 435,  18],\n",
              "       [  0,   0,   0,   0,   0, 478, 344, 311, 435, 307],\n",
              "       [  0,   0,   0,   0,   0, 464, 333, 495, 486, 197],\n",
              "       [  0,   0,   0,   0,   0,   0, 251, 396, 308, 435]], dtype=int32)"
            ]
          },
          "metadata": {},
          "execution_count": 10
        }
      ]
    },
    {
      "cell_type": "code",
      "source": [
        "#create a model with embedding layer\n",
        "model = Sequential()\n",
        "model.add(Embedding(vocabulary_size,10))\n",
        "model.compile('adam','mse')"
      ],
      "metadata": {
        "id": "PGpXS4_tT6cT"
      },
      "execution_count": 17,
      "outputs": []
    },
    {
      "cell_type": "code",
      "source": [
        "model.summary()"
      ],
      "metadata": {
        "colab": {
          "base_uri": "https://localhost:8080/",
          "height": 170
        },
        "id": "z2mo0MOnWOzI",
        "outputId": "fbb5fb30-5310-49fa-be94-bd543e3b2d8c"
      },
      "execution_count": 18,
      "outputs": [
        {
          "output_type": "display_data",
          "data": {
            "text/plain": [
              "\u001b[1mModel: \"sequential_2\"\u001b[0m\n"
            ],
            "text/html": [
              "<pre style=\"white-space:pre;overflow-x:auto;line-height:normal;font-family:Menlo,'DejaVu Sans Mono',consolas,'Courier New',monospace\"><span style=\"font-weight: bold\">Model: \"sequential_2\"</span>\n",
              "</pre>\n"
            ]
          },
          "metadata": {}
        },
        {
          "output_type": "display_data",
          "data": {
            "text/plain": [
              "┏━━━━━━━━━━━━━━━━━━━━━━━━━━━━━━━━━┳━━━━━━━━━━━━━━━━━━━━━━━━┳━━━━━━━━━━━━━━━┓\n",
              "┃\u001b[1m \u001b[0m\u001b[1mLayer (type)                   \u001b[0m\u001b[1m \u001b[0m┃\u001b[1m \u001b[0m\u001b[1mOutput Shape          \u001b[0m\u001b[1m \u001b[0m┃\u001b[1m \u001b[0m\u001b[1m      Param #\u001b[0m\u001b[1m \u001b[0m┃\n",
              "┡━━━━━━━━━━━━━━━━━━━━━━━━━━━━━━━━━╇━━━━━━━━━━━━━━━━━━━━━━━━╇━━━━━━━━━━━━━━━┩\n",
              "│ embedding_2 (\u001b[38;5;33mEmbedding\u001b[0m)         │ ?                      │   \u001b[38;5;34m0\u001b[0m (unbuilt) │\n",
              "└─────────────────────────────────┴────────────────────────┴───────────────┘\n"
            ],
            "text/html": [
              "<pre style=\"white-space:pre;overflow-x:auto;line-height:normal;font-family:Menlo,'DejaVu Sans Mono',consolas,'Courier New',monospace\">┏━━━━━━━━━━━━━━━━━━━━━━━━━━━━━━━━━┳━━━━━━━━━━━━━━━━━━━━━━━━┳━━━━━━━━━━━━━━━┓\n",
              "┃<span style=\"font-weight: bold\"> Layer (type)                    </span>┃<span style=\"font-weight: bold\"> Output Shape           </span>┃<span style=\"font-weight: bold\">       Param # </span>┃\n",
              "┡━━━━━━━━━━━━━━━━━━━━━━━━━━━━━━━━━╇━━━━━━━━━━━━━━━━━━━━━━━━╇━━━━━━━━━━━━━━━┩\n",
              "│ embedding_2 (<span style=\"color: #0087ff; text-decoration-color: #0087ff\">Embedding</span>)         │ ?                      │   <span style=\"color: #00af00; text-decoration-color: #00af00\">0</span> (unbuilt) │\n",
              "└─────────────────────────────────┴────────────────────────┴───────────────┘\n",
              "</pre>\n"
            ]
          },
          "metadata": {}
        },
        {
          "output_type": "display_data",
          "data": {
            "text/plain": [
              "\u001b[1m Total params: \u001b[0m\u001b[38;5;34m0\u001b[0m (0.00 B)\n"
            ],
            "text/html": [
              "<pre style=\"white-space:pre;overflow-x:auto;line-height:normal;font-family:Menlo,'DejaVu Sans Mono',consolas,'Courier New',monospace\"><span style=\"font-weight: bold\"> Total params: </span><span style=\"color: #00af00; text-decoration-color: #00af00\">0</span> (0.00 B)\n",
              "</pre>\n"
            ]
          },
          "metadata": {}
        },
        {
          "output_type": "display_data",
          "data": {
            "text/plain": [
              "\u001b[1m Trainable params: \u001b[0m\u001b[38;5;34m0\u001b[0m (0.00 B)\n"
            ],
            "text/html": [
              "<pre style=\"white-space:pre;overflow-x:auto;line-height:normal;font-family:Menlo,'DejaVu Sans Mono',consolas,'Courier New',monospace\"><span style=\"font-weight: bold\"> Trainable params: </span><span style=\"color: #00af00; text-decoration-color: #00af00\">0</span> (0.00 B)\n",
              "</pre>\n"
            ]
          },
          "metadata": {}
        },
        {
          "output_type": "display_data",
          "data": {
            "text/plain": [
              "\u001b[1m Non-trainable params: \u001b[0m\u001b[38;5;34m0\u001b[0m (0.00 B)\n"
            ],
            "text/html": [
              "<pre style=\"white-space:pre;overflow-x:auto;line-height:normal;font-family:Menlo,'DejaVu Sans Mono',consolas,'Courier New',monospace\"><span style=\"font-weight: bold\"> Non-trainable params: </span><span style=\"color: #00af00; text-decoration-color: #00af00\">0</span> (0.00 B)\n",
              "</pre>\n"
            ]
          },
          "metadata": {}
        }
      ]
    },
    {
      "cell_type": "code",
      "source": [
        "#vector representation of each word\n",
        "model.predict(padded[0])"
      ],
      "metadata": {
        "colab": {
          "base_uri": "https://localhost:8080/"
        },
        "id": "SByq12JJXqp5",
        "outputId": "22eddc83-0bce-46f3-e3bc-be3d5d75f58b"
      },
      "execution_count": 19,
      "outputs": [
        {
          "output_type": "stream",
          "name": "stdout",
          "text": [
            "\u001b[1m1/1\u001b[0m \u001b[32m━━━━━━━━━━━━━━━━━━━━\u001b[0m\u001b[37m\u001b[0m \u001b[1m0s\u001b[0m 151ms/step\n"
          ]
        },
        {
          "output_type": "execute_result",
          "data": {
            "text/plain": [
              "array([[ 0.00198132,  0.04871973,  0.02110394, -0.01148255, -0.04945343,\n",
              "        -0.03974652, -0.03994465, -0.00107358, -0.04314698, -0.03581202],\n",
              "       [ 0.00198132,  0.04871973,  0.02110394, -0.01148255, -0.04945343,\n",
              "        -0.03974652, -0.03994465, -0.00107358, -0.04314698, -0.03581202],\n",
              "       [ 0.00198132,  0.04871973,  0.02110394, -0.01148255, -0.04945343,\n",
              "        -0.03974652, -0.03994465, -0.00107358, -0.04314698, -0.03581202],\n",
              "       [ 0.00198132,  0.04871973,  0.02110394, -0.01148255, -0.04945343,\n",
              "        -0.03974652, -0.03994465, -0.00107358, -0.04314698, -0.03581202],\n",
              "       [ 0.00198132,  0.04871973,  0.02110394, -0.01148255, -0.04945343,\n",
              "        -0.03974652, -0.03994465, -0.00107358, -0.04314698, -0.03581202],\n",
              "       [ 0.00198132,  0.04871973,  0.02110394, -0.01148255, -0.04945343,\n",
              "        -0.03974652, -0.03994465, -0.00107358, -0.04314698, -0.03581202],\n",
              "       [ 0.02864193,  0.04674411, -0.03493292,  0.03028122, -0.00457308,\n",
              "        -0.03973645,  0.02791012,  0.04349529, -0.02960652, -0.00330307],\n",
              "       [-0.02110511, -0.02543407, -0.01643281,  0.03142845,  0.04373003,\n",
              "         0.02709294,  0.00607959, -0.01912894,  0.01206409,  0.01763565],\n",
              "       [ 0.04239241, -0.02021614,  0.00539828, -0.01474686, -0.03055816,\n",
              "         0.001068  ,  0.04845294,  0.04954407, -0.03523678, -0.04298889],\n",
              "       [-0.02689372, -0.02645156,  0.01293102, -0.00735144,  0.0326225 ,\n",
              "         0.01915452, -0.04348465,  0.01125487,  0.04186553,  0.02251828]],\n",
              "      dtype=float32)"
            ]
          },
          "metadata": {},
          "execution_count": 19
        }
      ]
    },
    {
      "cell_type": "code",
      "source": [
        "model.predict(padded[0])"
      ],
      "metadata": {
        "colab": {
          "base_uri": "https://localhost:8080/"
        },
        "id": "IifP7EAQYRa8",
        "outputId": "774c4973-5832-4ada-8735-cb69d1e82dbc"
      },
      "execution_count": 20,
      "outputs": [
        {
          "output_type": "stream",
          "name": "stdout",
          "text": [
            "\u001b[1m1/1\u001b[0m \u001b[32m━━━━━━━━━━━━━━━━━━━━\u001b[0m\u001b[37m\u001b[0m \u001b[1m0s\u001b[0m 28ms/step\n"
          ]
        },
        {
          "output_type": "execute_result",
          "data": {
            "text/plain": [
              "array([[ 0.00198132,  0.04871973,  0.02110394, -0.01148255, -0.04945343,\n",
              "        -0.03974652, -0.03994465, -0.00107358, -0.04314698, -0.03581202],\n",
              "       [ 0.00198132,  0.04871973,  0.02110394, -0.01148255, -0.04945343,\n",
              "        -0.03974652, -0.03994465, -0.00107358, -0.04314698, -0.03581202],\n",
              "       [ 0.00198132,  0.04871973,  0.02110394, -0.01148255, -0.04945343,\n",
              "        -0.03974652, -0.03994465, -0.00107358, -0.04314698, -0.03581202],\n",
              "       [ 0.00198132,  0.04871973,  0.02110394, -0.01148255, -0.04945343,\n",
              "        -0.03974652, -0.03994465, -0.00107358, -0.04314698, -0.03581202],\n",
              "       [ 0.00198132,  0.04871973,  0.02110394, -0.01148255, -0.04945343,\n",
              "        -0.03974652, -0.03994465, -0.00107358, -0.04314698, -0.03581202],\n",
              "       [ 0.00198132,  0.04871973,  0.02110394, -0.01148255, -0.04945343,\n",
              "        -0.03974652, -0.03994465, -0.00107358, -0.04314698, -0.03581202],\n",
              "       [ 0.02864193,  0.04674411, -0.03493292,  0.03028122, -0.00457308,\n",
              "        -0.03973645,  0.02791012,  0.04349529, -0.02960652, -0.00330307],\n",
              "       [-0.02110511, -0.02543407, -0.01643281,  0.03142845,  0.04373003,\n",
              "         0.02709294,  0.00607959, -0.01912894,  0.01206409,  0.01763565],\n",
              "       [ 0.04239241, -0.02021614,  0.00539828, -0.01474686, -0.03055816,\n",
              "         0.001068  ,  0.04845294,  0.04954407, -0.03523678, -0.04298889],\n",
              "       [-0.02689372, -0.02645156,  0.01293102, -0.00735144,  0.0326225 ,\n",
              "         0.01915452, -0.04348465,  0.01125487,  0.04186553,  0.02251828]],\n",
              "      dtype=float32)"
            ]
          },
          "metadata": {},
          "execution_count": 20
        }
      ]
    }
  ]
}